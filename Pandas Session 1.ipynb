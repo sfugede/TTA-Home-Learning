{
 "cells": [
  {
   "cell_type": "code",
   "execution_count": 41,
   "metadata": {},
   "outputs": [],
   "source": [
    "## Import Pandas\n",
    "import pandas as pd"
   ]
  },
  {
   "cell_type": "markdown",
   "metadata": {},
   "source": [
    "Slide 6"
   ]
  },
  {
   "cell_type": "code",
   "execution_count": 43,
   "metadata": {},
   "outputs": [
    {
     "output_type": "stream",
     "name": "stdout",
     "text": [
      "0            439\n1          98.54\n2    Hello World\n3     Sea Breeze\n4           -342\ndtype: object\n[439, 98.54, 'Hello World', 'Sea Breeze', -342]\n"
     ]
    }
   ],
   "source": [
    "# setup a one dimensional array-like object\n",
    "# The word Series must start with a capital letter otherwise you get a syntax error\n",
    "\n",
    "\n",
    "myseries = pd.Series([439, 98.54, 'Hello World', 'Sea Breeze', -342])\n",
    "mylist = [439, 98.54, 'Hello World', 'Sea Breeze', -342]\n",
    "\n",
    "# print the data in series\n",
    "print(myseries)\n",
    "print(mylist)\n",
    "\n",
    "# when the data is printed what do you notice?"
   ]
  },
  {
   "cell_type": "markdown",
   "metadata": {},
   "source": [
    "Slide 8"
   ]
  },
  {
   "cell_type": "code",
   "execution_count": 48,
   "metadata": {},
   "outputs": [
    {
     "output_type": "stream",
     "name": "stdout",
     "text": [
      "{'Code': [475984412, 475871129, 476214584, 475854812], 'Produce': ['Avocado', 'Banana', 'Courgette', 'Cauliflower'], 'Origin': ['Mexico', 'Costa Rica', 'France', 'UK'], 'Price': [1.75, 0.73, 2.0, 1.8]}\n        Code      Produce      Origin  Price\n0  475984412      Avocado      Mexico   1.75\n1  475871129       Banana  Costa Rica   0.73\n2  476214584    Courgette      France   2.00\n3  475854812  Cauliflower          UK   1.80\n"
     ]
    }
   ],
   "source": [
    "#create data\n",
    "\n",
    "inventory = {\"Code\": [475984412, 475871129, 476214584, 475854812],\n",
    "            \"Produce\": [\"Avocado\", \"Banana\", \"Courgette\", \"Cauliflower\"],\n",
    "            \"Origin\": [\"Mexico\", \"Costa Rica\", \"France\", \"UK\"],\n",
    "            \"Price\": [1.75, 0.73, 2.00, 1.80]}\n",
    "\n",
    "\n",
    "\n",
    "print(inventory)\n",
    "# create variable\n",
    "\n",
    "myframe = pd.DataFrame(inventory)\n",
    "#Remember the capitals both D & F\n",
    "\n",
    "# print variable\n",
    "print(myframe)"
   ]
  },
  {
   "cell_type": "markdown",
   "metadata": {},
   "source": [
    "Slide 9"
   ]
  },
  {
   "cell_type": "code",
   "execution_count": 49,
   "metadata": {},
   "outputs": [
    {
     "output_type": "stream",
     "name": "stdout",
     "text": [
      "         Code      Produce      Origin  Price\nAV  475984412      Avocado      Mexico   1.75\nBN  475871129       Banana  Costa Rica   0.73\nCG  476214584    Courgette      France   2.00\nCF  475854812  Cauliflower          UK   1.80\n"
     ]
    }
   ],
   "source": [
    "## create index\n",
    "myframe.index = [\"AV\", \"BN\", \"CG\", \"CF\"]\n",
    "## When creating an index, be aware that the index values need to be unique\n",
    "\n",
    "print(myframe)"
   ]
  },
  {
   "cell_type": "markdown",
   "metadata": {},
   "source": [
    "Slide 10 + 11 "
   ]
  },
  {
   "cell_type": "code",
   "execution_count": 50,
   "metadata": {},
   "outputs": [
    {
     "output_type": "stream",
     "name": "stdout",
     "text": [
      "   Owner_Surname  Pet_Name  Pet_Age  Last_Visit      Type Chipped Unnamed: 6\n0          Adams    Fluffy        2  11/05/2020       Cat     Yes           \n1          Smith      Zuko        8  30/01/2019       Dog     Yes        NaN\n2      Radcliffe      Nala        4  24/11/2019       Dog     Yes        NaN\n3        Holland  Mr Chips       10  15/06/2019       Dog      No        NaN\n4         Potter     Daisy        9  07/04/2020    Rabbit     Yes        NaN\n5         Sorola     Oscar        1  27/02/2020   Hamster      No        NaN\n6           Pike     Pepsi        6  18/09/2019       Cat     Yes        NaN\n7         Murray    George       17  12/02/2020  Tortoise      No        NaN\n8          Aston     Monty        3  09/03/2020       Dog     Yes        NaN\n9         Waller       Flo        7  06/05/2019       Cat     Yes        NaN\n10   De la Force     Anton        2  31/08/2019       Cat      No        NaN\n11          Reed     Farah        5  02/03/2020     Horse      No        NaN\n12      Martinez     Homer        6  24/11/2019       Dog     Yes        NaN\n13            Li      Iggy        5  14/12/2019       Dog     Yes        NaN\n14     Rodriquez     Bobby        3  28/02/2020    Rabbit      No        NaN\n"
     ]
    }
   ],
   "source": [
    "##read the csv file using pd.read_csv\n",
    "vetdata = pd.read_csv(\"vet_data.csv\")\n",
    "#Ensure that your csv file in within the same folder as your python file\n",
    "print(vetdata)"
   ]
  },
  {
   "cell_type": "code",
   "execution_count": null,
   "metadata": {},
   "outputs": [],
   "source": [
    "#print columns\n",
    "print(vetdata[\"Pet_Age\"])"
   ]
  },
  {
   "cell_type": "code",
   "execution_count": null,
   "metadata": {},
   "outputs": [],
   "source": [
    "print(vetdata[\"Pet_Name\"])"
   ]
  },
  {
   "cell_type": "code",
   "execution_count": null,
   "metadata": {},
   "outputs": [],
   "source": [
    "##retrieving multiple columns as dataframe\n",
    "print(vetdata[[\"Type\", \"Pet_Age\", \"Chipped\"]])"
   ]
  },
  {
   "cell_type": "code",
   "execution_count": null,
   "metadata": {},
   "outputs": [],
   "source": [
    "#delet\n",
    "vetdata.drop([6])"
   ]
  },
  {
   "cell_type": "code",
   "execution_count": null,
   "metadata": {},
   "outputs": [],
   "source": [
    "print(vetdata)"
   ]
  },
  {
   "cell_type": "markdown",
   "metadata": {},
   "source": [
    "Slide 12"
   ]
  },
  {
   "cell_type": "code",
   "execution_count": null,
   "metadata": {},
   "outputs": [],
   "source": [
    "## Print the first 4 observations (rows)\n",
    "vetdata[0:4]"
   ]
  },
  {
   "cell_type": "code",
   "execution_count": null,
   "metadata": {},
   "outputs": [],
   "source": [
    "vetdata[8:12]"
   ]
  },
  {
   "cell_type": "markdown",
   "metadata": {},
   "source": [
    "Slide 13 + 14"
   ]
  },
  {
   "cell_type": "code",
   "execution_count": null,
   "metadata": {},
   "outputs": [],
   "source": [
    "vetdata.iloc[[0]]"
   ]
  },
  {
   "cell_type": "code",
   "execution_count": null,
   "metadata": {},
   "outputs": [],
   "source": [
    "## read the csv file using pd.read_csv\n",
    "vetdata2 = pd.read_csv(\"vet_data.csv\", index_col=\"Owner_Surname\")\n",
    "\n",
    "## Print out observations for Smith and Sorola\n",
    "print(vetdata2.loc[[\"Smith\", \"Sorola\"]])\n",
    "\n",
    "# print(vetdata.iloc[[6,8]])\n"
   ]
  },
  {
   "cell_type": "code",
   "execution_count": null,
   "metadata": {},
   "outputs": [],
   "source": [
    "#retrieve data bases on index\n",
    "vetdata.loc[vetdata.Pet_Name == \"Monty\"]"
   ]
  },
  {
   "cell_type": "code",
   "execution_count": null,
   "metadata": {},
   "outputs": [],
   "source": [
    "vetdata.loc[vetdata.Chipped == \"Yes\"]"
   ]
  },
  {
   "cell_type": "code",
   "execution_count": null,
   "metadata": {},
   "outputs": [],
   "source": [
    "#retirve 8th row and 5th column\n",
    "data = pd.read_csv(\"vet_data.csv\")\n",
    "print(data.iloc[7,4])"
   ]
  },
  {
   "cell_type": "code",
   "execution_count": null,
   "metadata": {},
   "outputs": [],
   "source": [
    "#retrieve a range\n",
    "data = pd.read_csv(\"vet_data.csv\")\n",
    "print(data.iloc[3:7,2:4])"
   ]
  },
  {
   "cell_type": "code",
   "execution_count": null,
   "metadata": {},
   "outputs": [],
   "source": [
    "vetdata2"
   ]
  },
  {
   "cell_type": "code",
   "execution_count": null,
   "metadata": {},
   "outputs": [],
   "source": []
  }
 ],
 "metadata": {
  "kernelspec": {
   "name": "python394jvsc74a57bd0ac59ebe37160ed0dfa835113d9b8498d9f09ceb179beaac4002f036b9467c963",
   "display_name": "Python 3.9.4 64-bit"
  },
  "language_info": {
   "codemirror_mode": {
    "name": "ipython",
    "version": 3
   },
   "file_extension": ".py",
   "mimetype": "text/x-python",
   "name": "python",
   "nbconvert_exporter": "python",
   "pygments_lexer": "ipython3",
   "version": "3.9.4"
  },
  "metadata": {
   "interpreter": {
    "hash": "ac59ebe37160ed0dfa835113d9b8498d9f09ceb179beaac4002f036b9467c963"
   }
  }
 },
 "nbformat": 4,
 "nbformat_minor": 4
}