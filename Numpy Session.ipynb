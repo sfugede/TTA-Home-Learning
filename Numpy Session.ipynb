{
 "cells": [
  {
   "cell_type": "code",
   "execution_count": 1,
   "metadata": {},
   "outputs": [],
   "source": [
    "import numpy as np"
   ]
  },
  {
   "cell_type": "markdown",
   "metadata": {},
   "source": [
    "***Python Lists***"
   ]
  },
  {
   "cell_type": "code",
   "execution_count": null,
   "metadata": {},
   "outputs": [],
   "source": [
    "# here are 2 lists\n",
    "\n",
    "first_List  = [22.5, 55.3, 15.3, 64.3]\n",
    "second_List = [5.2, 22.2, 78.9, 47.1]\n",
    "\n",
    "\n",
    "# print the calculation of 22.5 * 5.2 but you have to do each\n",
    "# element individually which becomes a lengthy process\n",
    "# this is where NumPy is better to do calculations\n",
    "# over the entire array\n",
    "\n",
    "print(first_List[0]* second_List[0])\n",
    "print(first_List[1]* second_List[1])\n",
    "# remember that python is zero indexed "
   ]
  },
  {
   "cell_type": "markdown",
   "metadata": {},
   "source": [
    "***Lists V NP Arrays***"
   ]
  },
  {
   "cell_type": "code",
   "execution_count": null,
   "metadata": {},
   "outputs": [],
   "source": [
    "my_list = [1, 2, 3, 4, 5, 6, 7, 8, 9, 10]\n",
    "# standard python list above\n",
    "\n",
    "array = np.array([1, 2, 3, 4, 5, 6, 7, 8, 9, 10])\n",
    "#np array\n",
    "\n",
    "print(my_list)\n",
    "print(array)\n"
   ]
  },
  {
   "cell_type": "code",
   "execution_count": null,
   "metadata": {},
   "outputs": [],
   "source": [
    "my_list = [1, 2, 3]\n",
    "\n",
    "print(my_list + my_list)  \n",
    "# lists the elements to the end of the list instead of adding them like arrays"
   ]
  },
  {
   "cell_type": "code",
   "execution_count": null,
   "metadata": {},
   "outputs": [],
   "source": [
    "my_list2 = np.array([1,2,3])\n",
    "#Set up as NP array\n",
    "\n",
    "print(my_list2 + my_list2)"
   ]
  },
  {
   "cell_type": "code",
   "execution_count": null,
   "metadata": {},
   "outputs": [],
   "source": [
    "array = np.array([1, 2, 3, 4]) \n",
    "# array is made up of numbers\n",
    "\n",
    "print(array) # prints all the data\n",
    "print(array * 2) # prints each entity in the array * 2\n",
    "print(array * array) \n",
    "# prints each entity in the array by itself\n",
    "\n",
    "# really useful when dealing with large data sets to run calculations on arrays faster and less memory than a SpreadSheet\n",
    "# faster than humans = AI"
   ]
  },
  {
   "cell_type": "markdown",
   "metadata": {},
   "source": [
    "***One-Dimensional and Two-Dimensional Arrays***"
   ]
  },
  {
   "cell_type": "code",
   "execution_count": null,
   "metadata": {},
   "outputs": [],
   "source": [
    "# 1 dimensional array\n",
    "array1 = np.array([1, 2, 3, 4, 5])\n",
    "\n",
    "print(array1)"
   ]
  },
  {
   "cell_type": "code",
   "execution_count": null,
   "metadata": {},
   "outputs": [],
   "source": [
    "# 2 dimensional array\n",
    "array2 = np.array([[1, 2, 3], [4, 5, 6], [7, 8, 9]])\n",
    "\n",
    "print(array2)\n",
    "\n",
    "# look at how it prints a 2d array [[]]"
   ]
  },
  {
   "cell_type": "markdown",
   "metadata": {},
   "source": [
    "***Slicing***"
   ]
  },
  {
   "cell_type": "code",
   "execution_count": null,
   "metadata": {},
   "outputs": [],
   "source": [
    "array = np.array([1, 2, 3, 4, 5, 6, 7])\n",
    "\n",
    "print(array[1:5]) \n",
    "# slices data from index 1 to 4  - 0 indexed and discounts final number"
   ]
  },
  {
   "cell_type": "code",
   "execution_count": null,
   "metadata": {},
   "outputs": [],
   "source": [
    "array1 = np.array([1, 2, 3, 4, 5, 6, 7, 8, 9])\n",
    "\n",
    "print(array1[4:]) \n",
    "# slices data from position 4 onwards"
   ]
  },
  {
   "cell_type": "code",
   "execution_count": null,
   "metadata": {},
   "outputs": [],
   "source": [
    "array2 = np.array([1, 2, 3, 4, 5, 6, 7])\n",
    "\n",
    "print(array2[:4])  \n",
    "# slices unitl index/position 4"
   ]
  },
  {
   "cell_type": "code",
   "execution_count": null,
   "metadata": {},
   "outputs": [],
   "source": [
    "slice = np.array([1,2,3,4,5,6,7,8]) \n",
    "# slices from 1 to 8 in increments of 2\n",
    "print(slice[1:8:2])"
   ]
  },
  {
   "cell_type": "markdown",
   "metadata": {},
   "source": [
    "***NP Zeros***"
   ]
  },
  {
   "cell_type": "code",
   "execution_count": null,
   "metadata": {},
   "outputs": [],
   "source": [
    "zeros = np.zeros(10)  # single list/vector\n",
    "\n",
    "print (zeros)"
   ]
  },
  {
   "cell_type": "code",
   "execution_count": null,
   "metadata": {},
   "outputs": [],
   "source": [
    "zeros1 = np.zeros((4, 4)) # 4 by 4 matrix \n",
    "\n",
    "print(zeros1)"
   ]
  },
  {
   "cell_type": "markdown",
   "metadata": {},
   "source": [
    "***NP Ones***"
   ]
  },
  {
   "cell_type": "code",
   "execution_count": null,
   "metadata": {},
   "outputs": [],
   "source": [
    "ones = np.ones(8)  # single list/vector\n",
    "\n",
    "print (ones)"
   ]
  },
  {
   "cell_type": "code",
   "execution_count": null,
   "metadata": {},
   "outputs": [],
   "source": [
    "matrix = np.ones((3, 3)) # 3 by 3 matrix \n",
    "\n",
    "print(matrix)"
   ]
  },
  {
   "cell_type": "markdown",
   "metadata": {},
   "source": [
    "***NP Random Array***"
   ]
  },
  {
   "cell_type": "code",
   "execution_count": null,
   "metadata": {},
   "outputs": [],
   "source": [
    "random = np.random.rand(3,4) #3 rows, 4 columns\n",
    "\n",
    "print (random)"
   ]
  },
  {
   "cell_type": "markdown",
   "metadata": {},
   "source": [
    "***NP Eye***"
   ]
  },
  {
   "cell_type": "code",
   "execution_count": null,
   "metadata": {},
   "outputs": [],
   "source": [
    "eye = np.eye (6)\n",
    "\n",
    "print (eye)"
   ]
  },
  {
   "cell_type": "markdown",
   "metadata": {},
   "source": [
    "***NP Arange***"
   ]
  },
  {
   "cell_type": "code",
   "execution_count": null,
   "metadata": {},
   "outputs": [],
   "source": [
    "x = np.arange(10)\n",
    "\n",
    "print(x) # evenly spaced array "
   ]
  },
  {
   "cell_type": "code",
   "execution_count": null,
   "metadata": {},
   "outputs": [],
   "source": [
    "# add a 2nd argument start = 5, stop = 15, again no step added\n",
    "array1 = np.arange(5, 16)\n",
    "\n",
    "print(array1) # still  has step size of 1"
   ]
  },
  {
   "cell_type": "code",
   "execution_count": null,
   "metadata": {},
   "outputs": [],
   "source": [
    "# 3rd argument to add step\n",
    "array2 = np.arange(0, 15, 2)\n",
    "\n",
    "print(array2)"
   ]
  },
  {
   "cell_type": "code",
   "execution_count": null,
   "metadata": {},
   "outputs": [],
   "source": [
    "# can pass decimals as increments - use nplinspace for decimal arrays though\n",
    "array3 = np.arange(0, 15, 0.5)\n",
    "\n",
    "print(array3)"
   ]
  },
  {
   "cell_type": "markdown",
   "metadata": {},
   "source": [
    "***Reshaping***"
   ]
  },
  {
   "cell_type": "code",
   "execution_count": null,
   "metadata": {},
   "outputs": [],
   "source": [
    "# 1D to 2D\n",
    "array = np.array([1, 2, 3, 4, 5, 6, 7, 8, 9, 10, 11, 12])\n",
    "\n",
    "newArray = array.reshape(4, 3) \n",
    "# rows then columns when creating the matrix\n",
    "\n",
    "print(newArray)"
   ]
  },
  {
   "cell_type": "code",
   "execution_count": null,
   "metadata": {},
   "outputs": [],
   "source": [
    "# 1D array to 3D array\n",
    "array1 = np.array([2, 4, 6, 8, 10, 12, 14, 16, 18, 20, 22, 24])\n",
    "\n",
    "newArray1 = array1.reshape(2, 3, 2) \n",
    "# 2 matrices, 3 rows and 2 columns. \n",
    "#Must use this order\n",
    "\n",
    "print(newArray1)"
   ]
  },
  {
   "cell_type": "code",
   "execution_count": null,
   "metadata": {},
   "outputs": [],
   "source": [
    "reshape = np.arange(1, 26).reshape(5,5)\n",
    "\n",
    "print(reshape)\n",
    "\n",
    "# has to have value the same length as the matrix\n",
    "# e.g. 1-26 would print 25 entities and the matrix would by 5 by 5 - 5*5 = 25!\n",
    "# remember it does not count the stop 26!"
   ]
  },
  {
   "cell_type": "code",
   "execution_count": null,
   "metadata": {},
   "outputs": [],
   "source": [
    "array = np.arange(0,5)\n",
    "\n",
    "print(array)\n",
    "\n",
    "print(array - 10)\n",
    "print(\"Multiply :\", array * 10)\n",
    "print(\"Divide :\", array / 10)\n",
    "print(\"Power :\", array ** 2)"
   ]
  },
  {
   "cell_type": "code",
   "execution_count": null,
   "metadata": {},
   "outputs": [],
   "source": [
    "a = np.arange(1,10).reshape(3,3)\n",
    "b = np.arange(10,19).reshape(3,3)\n",
    "\n",
    "print(a)\n",
    "print(b)"
   ]
  },
  {
   "cell_type": "markdown",
   "metadata": {},
   "source": [
    "***NP Dot***"
   ]
  },
  {
   "cell_type": "code",
   "execution_count": null,
   "metadata": {},
   "outputs": [],
   "source": [
    "a = np.arange(1,10).reshape(3,3)\n",
    "b = np.arange(10,19).reshape(3,3)\n",
    "c = np.dot(a, b)\n",
    "\n",
    "print(c)"
   ]
  },
  {
   "cell_type": "markdown",
   "metadata": {},
   "source": [
    "***NP Sum***"
   ]
  },
  {
   "cell_type": "code",
   "execution_count": null,
   "metadata": {},
   "outputs": [],
   "source": [
    "a = np.arange(1,10).reshape(3,3)\n",
    "b = np.arange(10,19).reshape(3,3)\n",
    "c = np.dot(a, b)\n",
    "print(c)\n",
    "\n",
    "total_sum = np.sum(c)\n",
    "print(total_sum)\n"
   ]
  },
  {
   "cell_type": "code",
   "execution_count": null,
   "metadata": {},
   "outputs": [],
   "source": [
    "# you can use np.sum on any matrix.\n",
    "print(a)\n",
    "sum1 = np.sum(a)\n",
    "print(sum1)"
   ]
  },
  {
   "cell_type": "markdown",
   "metadata": {},
   "source": [
    "***Sum by Row/Column***"
   ]
  },
  {
   "cell_type": "code",
   "execution_count": null,
   "metadata": {},
   "outputs": [],
   "source": [
    "#by column\n",
    "a = np.arange(1,10).reshape(3,3)\n",
    "b = np.arange(10,19).reshape(3,3)\n",
    "c = np.dot(a, b)\n",
    "\n",
    "print(c)\n",
    "\n",
    "e = np.sum(c, axis = 0)\n",
    "\n",
    "print(e)"
   ]
  },
  {
   "cell_type": "code",
   "execution_count": null,
   "metadata": {},
   "outputs": [],
   "source": [
    "#by row\n",
    "a = np.arange(1,10).reshape(3,3)\n",
    "b = np.arange(10,19).reshape(3,3)\n",
    "c = np.dot(a, b)\n",
    "\n",
    "print(c)\n",
    "\n",
    "e = np.sum(c,axis = 1)\n",
    "\n",
    "print(e)"
   ]
  },
  {
   "cell_type": "code",
   "execution_count": null,
   "metadata": {},
   "outputs": [],
   "source": []
  }
 ],
 "metadata": {
  "kernelspec": {
   "display_name": "Python 3",
   "language": "python",
   "name": "python3"
  },
  "language_info": {
   "codemirror_mode": {
    "name": "ipython",
    "version": 3
   },
   "file_extension": ".py",
   "mimetype": "text/x-python",
   "name": "python",
   "nbconvert_exporter": "python",
   "pygments_lexer": "ipython3",
   "version": "3.8.3"
  }
 },
 "nbformat": 4,
 "nbformat_minor": 4
}
