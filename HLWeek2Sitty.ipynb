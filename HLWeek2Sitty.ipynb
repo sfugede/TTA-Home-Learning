{
 "metadata": {
  "language_info": {
   "codemirror_mode": {
    "name": "ipython",
    "version": 3
   },
   "file_extension": ".py",
   "mimetype": "text/x-python",
   "name": "python",
   "nbconvert_exporter": "python",
   "pygments_lexer": "ipython3",
   "version": "3.9.4"
  },
  "orig_nbformat": 2,
  "kernelspec": {
   "name": "python394jvsc74a57bd07812ea015bdcee6f23a998adcdd2ef97c151c0c241b7b7070987d9313e41299d",
   "display_name": "Python 3.9.4 64-bit"
  },
  "metadata": {
   "interpreter": {
    "hash": "7812ea015bdcee6f23a998adcdd2ef97c151c0c241b7b7070987d9313e41299d"
   }
  }
 },
 "nbformat": 4,
 "nbformat_minor": 2,
 "cells": [
  {
   "cell_type": "code",
   "execution_count": 1,
   "metadata": {},
   "outputs": [
    {
     "output_type": "stream",
     "name": "stdout",
     "text": [
      "please select payment type\n"
     ]
    }
   ],
   "source": [
    "# Task 1 Convert Dataflow Diagram into Code\n",
    "userinput1 = input(\"Please scan your 1st item\")\n",
    "userinput2 = input(\"please scan all other remaining items\")\n",
    "if userinput1: \n",
    "    print (\"please select payment type\")\n",
    "else:\n",
    "    print(\"please scan all other remaining items\")"
   ]
  },
  {
   "cell_type": "code",
   "execution_count": 2,
   "metadata": {},
   "outputs": [
    {
     "output_type": "stream",
     "name": "stdout",
     "text": [
      "please insert cash\n"
     ]
    }
   ],
   "source": [
    "paymenttype1 = input(\"please insert cash\")\n",
    "paymenttype2 = input(\"please scan contactless card or device\")\n",
    "paymenttype3 = input(\"please enter your card and pin number\")\n",
    "\n",
    "if paymenttype1:\n",
    "    print(\"please insert cash\")\n",
    "elif paymenttype2:\n",
    "    print(\"please scan contactless card or device\")\n",
    "elif paymenttype3:\n",
    "    print(\"please enter your card and pin number\")\n",
    "else:\n",
    "    print(\"do you wish to continue\")"
   ]
  },
  {
   "cell_type": "code",
   "execution_count": 3,
   "metadata": {},
   "outputs": [
    {
     "output_type": "stream",
     "name": "stdout",
     "text": [
      "please take your receipt\n"
     ]
    }
   ],
   "source": [
    "receipt1 = input(\"receipt required\")\n",
    "receipt2 = input(\"no receipt required\")\n",
    "\n",
    "if receipt1:\n",
    "    print(\"please take your receipt\")\n",
    "else:\n",
    "    print(\"thank you for shopping with us, goodbye\")"
   ]
  },
  {
   "cell_type": "code",
   "execution_count": 4,
   "metadata": {},
   "outputs": [],
   "source": [
    "#Task 2 As an extension to the motorbike task that costs £2000 and loses 10% of its value every year. Set up a function that performs the calculation by passing in parameters. Then using a loop, print the value of the bike every following year until it falls below £1000. "
   ]
  },
  {
   "cell_type": "code",
   "execution_count": 6,
   "metadata": {},
   "outputs": [],
   "source": [
    "def function_a():\n",
    "    year1 = (2021)\n",
    "    value = (2000)\n",
    "    deprate = (0.9)\n",
    "    year2 = (value * deprate)"
   ]
  },
  {
   "cell_type": "code",
   "execution_count": 7,
   "metadata": {},
   "outputs": [],
   "source": [
    "def funcion_2():\n",
    "    year1 = (2021)\n",
    "    value = (2000)\n",
    "    deprate = (0.9)\n",
    "    year2 = (value * deprate)\n",
    "    \n",
    "    output = value * deprate + \"is the value in\" + year1+1\n",
    "    \n",
    "    return output"
   ]
  },
  {
   "cell_type": "code",
   "execution_count": 9,
   "metadata": {},
   "outputs": [],
   "source": [
    "def procedure_2():\n",
    "    message = function_2()\n",
    "    print(message)\n",
    "    \n",
    "    while value < 1000:\n",
    "        print(message)"
   ]
  },
  {
   "cell_type": "code",
   "execution_count": 10,
   "metadata": {},
   "outputs": [],
   "source": [
    "# Task 3. Write a program Write a program which will ask for two numbers from a user. Then offer an option menu to the user giving them a choice of maths operators. Once the user has selected which operator they wish to use, perform the calculation by using a procedure and passing parameters."
   ]
  },
  {
   "cell_type": "code",
   "execution_count": 24,
   "metadata": {},
   "outputs": [],
   "source": [
    "def procedure_3():\n",
    "    number1 = int(input(\"please enter your first number\"))\n",
    "    number2 = int(input(\"please enter your second number\"))\n",
    "    opmenu = input(\"please select a to add, s to subtract, m to multiply and d to divide\")"
   ]
  },
  {
   "cell_type": "code",
   "execution_count": 3,
   "metadata": {},
   "outputs": [],
   "source": [
    "def procedure_3(inp_number1, inp_number2, inp_opmenu):\n",
    "    print(inp_number1 * inp_number2)\n",
    "\n",
    "    procedure_3"
   ]
  },
  {
   "cell_type": "code",
   "execution_count": null,
   "metadata": {},
   "outputs": [],
   "source": []
  }
 ]
}