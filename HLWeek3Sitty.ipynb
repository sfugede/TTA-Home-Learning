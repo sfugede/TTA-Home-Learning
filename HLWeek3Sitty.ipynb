{
 "metadata": {
  "language_info": {
   "codemirror_mode": {
    "name": "ipython",
    "version": 3
   },
   "file_extension": ".py",
   "mimetype": "text/x-python",
   "name": "python",
   "nbconvert_exporter": "python",
   "pygments_lexer": "ipython3",
   "version": "3.9.4"
  },
  "orig_nbformat": 2,
  "kernelspec": {
   "name": "python394jvsc74a57bd07812ea015bdcee6f23a998adcdd2ef97c151c0c241b7b7070987d9313e41299d",
   "display_name": "Python 3.9.4 64-bit ('3.9')"
  },
  "metadata": {
   "interpreter": {
    "hash": "7812ea015bdcee6f23a998adcdd2ef97c151c0c241b7b7070987d9313e41299d"
   }
  }
 },
 "nbformat": 4,
 "nbformat_minor": 2,
 "cells": [
  {
   "cell_type": "code",
   "execution_count": 1,
   "metadata": {},
   "outputs": [],
   "source": [
    "# Task 1 - Write a program that allows you to enter 4 numbers and stores them in a file called “Numbers”"
   ]
  },
  {
   "cell_type": "code",
   "execution_count": 4,
   "metadata": {},
   "outputs": [
    {
     "output_type": "stream",
     "name": "stdout",
     "text": [
      "please enter 3, 45, 83, 21\n"
     ]
    }
   ],
   "source": [
    "my_file = open(\"Numbers\", \"w\")\n",
    "num1 = 3\n",
    "num2 = 45\n",
    "num3 = 83\n",
    "num4 = 21\n",
    "\n",
    "my_file.write (str(num1))\n",
    "\n",
    "my_file.close()\n",
    "\n",
    "message = \"please enter {}, {}, {}, {}\".format(num1, num2,num3, num4)\n",
    "\n",
    "print(message)"
   ]
  },
  {
   "cell_type": "code",
   "execution_count": 5,
   "metadata": {},
   "outputs": [
    {
     "output_type": "stream",
     "name": "stdout",
     "text": [
      "[3, 45, 83, 21]\n"
     ]
    }
   ],
   "source": [
    "mynumbers = list()\n",
    "for nb in range (1, 5):\n",
    "    msg = \"enter value # {}: \" .format (nb)\n",
    "    inp = int(input(msg))\n",
    "    mynumbers.append(inp)\n",
    "\n",
    "print(mynumbers)"
   ]
  },
  {
   "cell_type": "code",
   "execution_count": 6,
   "metadata": {},
   "outputs": [],
   "source": [
    "with open(\"numbers\", \"w\") as f:\n",
    "    for nb in mynumbers:\n",
    "        f.write(f\"{nb}\\n\")"
   ]
  },
  {
   "cell_type": "code",
   "execution_count": 7,
   "metadata": {},
   "outputs": [],
   "source": [
    "my_file.close()"
   ]
  },
  {
   "cell_type": "code",
   "execution_count": 8,
   "metadata": {},
   "outputs": [],
   "source": [
    "\n",
    "\n",
    "# Task 2 Ask a student for their percentage mark and convert this to a grade"
   ]
  },
  {
   "cell_type": "code",
   "execution_count": 9,
   "metadata": {},
   "outputs": [],
   "source": [
    "def function_mark_grade():\n",
    "    per_mark = int(input(\"Please enter your percentage mark\"))\n",
    "    if per_mark >=80:\n",
    "        print(\"Your grade is A\")\n",
    "    elif per_mark >=69:\n",
    "        print(\"Your grade is a B\")\n",
    "    elif per_mark >=59:\n",
    "        print(\"Your grade is a C\")\n",
    "    elif per_mark >=49:\n",
    "        print(\"Your grade is a D\")\n",
    "    elif per_mark >=40:\n",
    "        print(\"Your grade is an E\")\n",
    "    elif per_mark >=35:\n",
    "        print(\"Your mark in an F\")\n",
    "    else:\n",
    "        print(\"Your grade is a U\")"
   ]
  },
  {
   "cell_type": "code",
   "execution_count": 10,
   "metadata": {},
   "outputs": [
    {
     "output_type": "stream",
     "name": "stdout",
     "text": [
      "Your grade is A\n"
     ]
    }
   ],
   "source": [
    "function_mark_grade()"
   ]
  },
  {
   "cell_type": "code",
   "execution_count": 11,
   "metadata": {},
   "outputs": [],
   "source": [
    "\n",
    "\n",
    "# Task 2 extension - Ask the user for their target grade and print this with their mark"
   ]
  },
  {
   "cell_type": "code",
   "execution_count": 12,
   "metadata": {},
   "outputs": [
    {
     "output_type": "stream",
     "name": "stdout",
     "text": [
      "Well done, you have scored above your predicted grade!\n"
     ]
    }
   ],
   "source": [
    "per_mark = int(input(\"Please enter your percentage mark\"))\n",
    "target_grade = int(input(\"Please enter your target grade\"))\n",
    "if target_grade < per_mark:\n",
    "    print(\"Well done, you have scored above your predicted grade!\")\n",
    "elif target_grade == per_mark:\n",
    "    print(\"congratulations you are working at the expected level\")\n",
    "else:\n",
    "    print(\"Sorry, you have attained a lower grade than predicted\")"
   ]
  },
  {
   "cell_type": "code",
   "execution_count": 13,
   "metadata": {},
   "outputs": [],
   "source": [
    "# Numpy Tasks\n",
    "\n",
    "# 1 - Create a 1D array of numbers from 0-9"
   ]
  },
  {
   "cell_type": "code",
   "execution_count": 14,
   "metadata": {},
   "outputs": [
    {
     "output_type": "stream",
     "name": "stdout",
     "text": [
      "[0 1 2 3 4 5 6 7 8 9]\n"
     ]
    }
   ],
   "source": [
    "import numpy as np\n",
    "\n",
    "array = np.array([0,1,2,3,4,5,6,7,8, 9])\n",
    "\n",
    "print(array)"
   ]
  },
  {
   "cell_type": "code",
   "execution_count": 15,
   "metadata": {},
   "outputs": [],
   "source": [
    "\n",
    "# 2 - Create a 3×3 NumPy array of all Boolean value Trues"
   ]
  },
  {
   "cell_type": "code",
   "execution_count": 16,
   "metadata": {},
   "outputs": [
    {
     "output_type": "stream",
     "name": "stdout",
     "text": [
      "[[ 2  4  6]\n [ 8 10 12]\n [14 16 18]]\n"
     ]
    }
   ],
   "source": [
    "import numpy as np\n",
    "\n",
    "array = np.array([2,4,6,8,10,12,14,16,18])\n",
    "\n",
    "newarray = array.reshape(3,3)\n",
    "\n",
    "print(newarray)"
   ]
  },
  {
   "cell_type": "code",
   "execution_count": 17,
   "metadata": {},
   "outputs": [
    {
     "output_type": "execute_result",
     "data": {
      "text/plain": [
       "array([[ True,  True,  True],\n",
       "       [ True,  True,  True],\n",
       "       [ True,  True,  True]])"
      ]
     },
     "metadata": {},
     "execution_count": 17
    }
   ],
   "source": [
    "newarray % 2==0"
   ]
  },
  {
   "cell_type": "code",
   "execution_count": 18,
   "metadata": {},
   "outputs": [],
   "source": [
    "\n",
    "\n",
    "#3 Extract all odd numbers from array of 1 to 10"
   ]
  },
  {
   "cell_type": "code",
   "execution_count": 19,
   "metadata": {},
   "outputs": [
    {
     "output_type": "stream",
     "name": "stdout",
     "text": [
      "[1 3 5 7 9]\n"
     ]
    }
   ],
   "source": [
    "import numpy as np\n",
    "\n",
    "array = np.array([1,2,3,4,5,6,7,8,9,10])\n",
    "\n",
    "print(array[0::2])"
   ]
  },
  {
   "cell_type": "code",
   "execution_count": null,
   "metadata": {},
   "outputs": [],
   "source": [
    "\n",
    "\n",
    "#4 Replace all odd numbers in an array of 1-10 with the value -1"
   ]
  },
  {
   "cell_type": "code",
   "execution_count": 20,
   "metadata": {},
   "outputs": [
    {
     "output_type": "stream",
     "name": "stdout",
     "text": [
      "[-1  2 -1  4 -1  6 -1  8 -1 10]\n"
     ]
    }
   ],
   "source": [
    "array[0::2] = -1\n",
    "print(array)"
   ]
  },
  {
   "cell_type": "code",
   "execution_count": null,
   "metadata": {},
   "outputs": [],
   "source": [
    "#5 Convert a 1D array to a 2D array with 2 rows"
   ]
  },
  {
   "cell_type": "code",
   "execution_count": 21,
   "metadata": {},
   "outputs": [
    {
     "output_type": "stream",
     "name": "stdout",
     "text": [
      "[[ 1  2  3  4  5]\n [ 6  7  8  9 10]]\n"
     ]
    }
   ],
   "source": [
    "import numpy as np\n",
    "\n",
    "array = np.array([1,2,3,4,5,6,7,8,9,10])\n",
    "\n",
    "newarray = array.reshape(2,5)\n",
    "\n",
    "print(newarray)"
   ]
  },
  {
   "cell_type": "code",
   "execution_count": 22,
   "metadata": {},
   "outputs": [],
   "source": [
    "\n",
    "\n",
    "#6 Create two arrays a and b, stack these two arrays vertically use the np.dot and np.sum to calculate totals"
   ]
  },
  {
   "cell_type": "code",
   "execution_count": 23,
   "metadata": {},
   "outputs": [
    {
     "output_type": "stream",
     "name": "stdout",
     "text": [
      "[[3726 3786 3846]\n [4284 4353 4422]\n [4842 4920 4998]]\n"
     ]
    }
   ],
   "source": [
    "import numpy as np\n",
    "\n",
    "a = np.arange (19, 28).reshape (3,3)\n",
    "b = np.arange (59, 68).reshape (3,3)\n",
    "t = np.dot(a,b)\n",
    "print(t)"
   ]
  },
  {
   "cell_type": "code",
   "execution_count": 24,
   "metadata": {},
   "outputs": [
    {
     "output_type": "stream",
     "name": "stdout",
     "text": [
      "39177\n"
     ]
    }
   ],
   "source": [
    "import numpy as np\n",
    "\n",
    "a = np.arange (19, 28).reshape (3,3)\n",
    "b = np.arange (59, 68).reshape (3,3)\n",
    "t = np.dot(a,b)\n",
    "sum = np.sum(t)\n",
    "print(sum)"
   ]
  },
  {
   "cell_type": "code",
   "execution_count": null,
   "metadata": {},
   "outputs": [],
   "source": []
  }
 ]
}