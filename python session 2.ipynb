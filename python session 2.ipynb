{
 "cells": [
  {
   "cell_type": "markdown",
   "metadata": {},
   "source": [
    "If, If Else and Else"
   ]
  },
  {
   "cell_type": "code",
   "execution_count": null,
   "metadata": {
    "tags": []
   },
   "outputs": [],
   "source": [
    "menuOption=int(input(\"Select an option 1,2 or 3\"))\n",
    "\n",
    "if (menuOption==1):\n",
    "    print (\"These are all the Running Trainers\")\n",
    "elif(menuOption==2):\n",
    "    print (\"These are all the Classics\")\n",
    "elif(menuOption==3):\n",
    "    print (\"These are all the Boots and Shoes\")\n",
    "else:\n",
    "    print (\"You didn’t choose the correct option\")"
   ]
  },
  {
   "cell_type": "markdown",
   "metadata": {},
   "source": [
    "## Imbedded Tasks <br>\n",
    "For Loops:"
   ]
  },
  {
   "cell_type": "code",
   "execution_count": 7,
   "metadata": {
    "tags": []
   },
   "outputs": [
    {
     "name": "stdout",
     "output_type": "stream",
     "text": [
      "i: 0 j: 0\n",
      "i: 0 j: 1\n",
      "i: 0 j: 2\n",
      "i: 0 j: 3\n",
      "i: 0 j: 4\n",
      "i: 0 j: 5\n",
      "i: 0 j: 6\n",
      "i: 0 j: 7\n",
      "i: 0 j: 8\n",
      "i: 0 j: 9\n",
      "start of the next loop\n",
      "i: 1 j: 0\n",
      "i: 1 j: 1\n",
      "i: 1 j: 2\n",
      "i: 1 j: 3\n",
      "i: 1 j: 4\n",
      "i: 1 j: 5\n",
      "i: 1 j: 6\n",
      "i: 1 j: 7\n",
      "i: 1 j: 8\n",
      "i: 1 j: 9\n",
      "start of the next loop\n",
      "i: 2 j: 0\n",
      "i: 2 j: 1\n",
      "i: 2 j: 2\n",
      "i: 2 j: 3\n",
      "i: 2 j: 4\n",
      "i: 2 j: 5\n",
      "i: 2 j: 6\n",
      "i: 2 j: 7\n",
      "i: 2 j: 8\n",
      "i: 2 j: 9\n",
      "start of the next loop\n",
      "i: 3 j: 0\n",
      "i: 3 j: 1\n",
      "i: 3 j: 2\n",
      "i: 3 j: 3\n",
      "i: 3 j: 4\n",
      "i: 3 j: 5\n",
      "i: 3 j: 6\n",
      "i: 3 j: 7\n",
      "i: 3 j: 8\n",
      "i: 3 j: 9\n",
      "start of the next loop\n",
      "i: 4 j: 0\n",
      "i: 4 j: 1\n",
      "i: 4 j: 2\n",
      "i: 4 j: 3\n",
      "i: 4 j: 4\n",
      "i: 4 j: 5\n",
      "i: 4 j: 6\n",
      "i: 4 j: 7\n",
      "i: 4 j: 8\n",
      "i: 4 j: 9\n",
      "start of the next loop\n",
      "i: 5 j: 0\n",
      "i: 5 j: 1\n",
      "i: 5 j: 2\n",
      "i: 5 j: 3\n",
      "i: 5 j: 4\n",
      "i: 5 j: 5\n",
      "i: 5 j: 6\n",
      "i: 5 j: 7\n",
      "i: 5 j: 8\n",
      "i: 5 j: 9\n",
      "start of the next loop\n",
      "i: 6 j: 0\n",
      "i: 6 j: 1\n",
      "i: 6 j: 2\n",
      "i: 6 j: 3\n",
      "i: 6 j: 4\n",
      "i: 6 j: 5\n",
      "i: 6 j: 6\n",
      "i: 6 j: 7\n",
      "i: 6 j: 8\n",
      "i: 6 j: 9\n",
      "start of the next loop\n",
      "i: 7 j: 0\n",
      "i: 7 j: 1\n",
      "i: 7 j: 2\n",
      "i: 7 j: 3\n",
      "i: 7 j: 4\n",
      "i: 7 j: 5\n",
      "i: 7 j: 6\n",
      "i: 7 j: 7\n",
      "i: 7 j: 8\n",
      "i: 7 j: 9\n",
      "start of the next loop\n",
      "i: 8 j: 0\n",
      "i: 8 j: 1\n",
      "i: 8 j: 2\n",
      "i: 8 j: 3\n",
      "i: 8 j: 4\n",
      "i: 8 j: 5\n",
      "i: 8 j: 6\n",
      "i: 8 j: 7\n",
      "i: 8 j: 8\n",
      "i: 8 j: 9\n",
      "start of the next loop\n",
      "i: 9 j: 0\n",
      "i: 9 j: 1\n",
      "i: 9 j: 2\n",
      "i: 9 j: 3\n",
      "i: 9 j: 4\n",
      "i: 9 j: 5\n",
      "i: 9 j: 6\n",
      "i: 9 j: 7\n",
      "i: 9 j: 8\n",
      "i: 9 j: 9\n",
      "start of the next loop\n"
     ]
    }
   ],
   "source": [
    "for i in range(10):\n",
    "    #for j in range(10):\n",
    "        print(\"i:\", i, \"j:\", j) \n",
    "    print(\"start of the next loop\")"
   ]
  },
  {
   "cell_type": "markdown",
   "metadata": {},
   "source": [
    "If Statements"
   ]
  },
  {
   "cell_type": "code",
   "execution_count": 10,
   "metadata": {
    "tags": []
   },
   "outputs": [
    {
     "name": "stdout",
     "output_type": "stream",
     "text": [
      "Only the second numbers match up\n"
     ]
    }
   ],
   "source": [
    "number1 = 3\n",
    "number2 = 2\n",
    "\n",
    "if number1 == 1:\n",
    "    if number2 == 3:\n",
    "        print(\"Both numbers match up\")\n",
    "    else:\n",
    "        print(\"First number matches but not the second\")\n",
    "else:\n",
    "    if number2 == 2:\n",
    "        print(\"Only the second numbers match up\")\n",
    "    else:\n",
    "        print(\"None match\") "
   ]
  },
  {
   "cell_type": "markdown",
   "metadata": {},
   "source": [
    "## Logical Operators <br>\n",
    "and: Returns true if both conditions are met <br>\n",
    "or : Returns true if both or one condition is met <br>\n",
    "not: Returns the opposite to the returned value"
   ]
  },
  {
   "cell_type": "code",
   "execution_count": 12,
   "metadata": {
    "tags": []
   },
   "outputs": [
    {
     "name": "stdin",
     "output_type": "stream",
     "text": [
      "What is your age?:  55\n"
     ]
    },
    {
     "name": "stdout",
     "output_type": "stream",
     "text": [
      "You can learn to drive, but better learn soon!\n"
     ]
    }
   ],
   "source": [
    "age = int(input(\"What is your age?: \"))\n",
    "\n",
    "if age > 17 and age <= 50:\n",
    "    print(\"You can learn to drive\")\n",
    "elif age > 50 and age <60:\n",
    "    print(\"You can learn to drive, but better learn soon!\")\n",
    "else:\n",
    "    print(\"You cannot learn to drive\")"
   ]
  },
  {
   "cell_type": "code",
   "execution_count": 13,
   "metadata": {
    "tags": []
   },
   "outputs": [
    {
     "name": "stdin",
     "output_type": "stream",
     "text": [
      "Enter a number smaller than 10:  7\n"
     ]
    },
    {
     "name": "stdout",
     "output_type": "stream",
     "text": [
      "You entered an ODD number\n"
     ]
    }
   ],
   "source": [
    "number = int(input(\"Enter a number smaller than 10: \"))\n",
    "\n",
    "if number == 1 or number == 3 or number == 5 or number  == 7 or number == 9:\n",
    "    print(\"You entered an ODD number\")\n",
    "else:\n",
    "    print(\"You entered an EVEN number\")"
   ]
  },
  {
   "cell_type": "markdown",
   "metadata": {},
   "source": [
    "## Functions and Procedures <br>\n",
    "Both functions and Procedures are created the same.<br>\n",
    "Procedures will just carry out the action."
   ]
  },
  {
   "cell_type": "code",
   "execution_count": 1,
   "metadata": {},
   "outputs": [],
   "source": [
    "def procedure_1():\n",
    "    name = input(\"What is your name? \")\n",
    "    age  = int(input(\"What is your age? \"))\n",
    "\n",
    "    print(\"Hello\", name + \"! You will be\", age + 1, \"For your next birthday!\")"
   ]
  },
  {
   "cell_type": "code",
   "execution_count": 2,
   "metadata": {
    "tags": []
   },
   "outputs": [
    {
     "name": "stdin",
     "output_type": "stream",
     "text": [
      "What is your name?  Suzannah\n",
      "What is your age?  21\n"
     ]
    },
    {
     "name": "stdout",
     "output_type": "stream",
     "text": [
      "Hello Suzannah! You will be 22 For your next birthday!\n"
     ]
    }
   ],
   "source": [
    "procedure_1()"
   ]
  },
  {
   "cell_type": "markdown",
   "metadata": {},
   "source": [
    "Lets create a Function. The difference with these is that they return a value."
   ]
  },
  {
   "cell_type": "code",
   "execution_count": 17,
   "metadata": {},
   "outputs": [],
   "source": [
    "def function_1():\n",
    "    name = input(\"What is your name? \")\n",
    "    age  = int(input(\"What is your age? \"))\n",
    "\n",
    "    output = \"Hello \" + name + \"! You will be \" + str(age + 1) + \" For your next birthday!\"\n",
    "\n",
    "    return output"
   ]
  },
  {
   "cell_type": "code",
   "execution_count": 18,
   "metadata": {
    "tags": []
   },
   "outputs": [
    {
     "name": "stdin",
     "output_type": "stream",
     "text": [
      "What is your name?  Suzannah\n",
      "What is your age?  21\n"
     ]
    }
   ],
   "source": [
    "message = function_1()"
   ]
  },
  {
   "cell_type": "code",
   "execution_count": 13,
   "metadata": {},
   "outputs": [
    {
     "name": "stdout",
     "output_type": "stream",
     "text": [
      "('Suzannah', 21, 'Hello Suzannah! You will be 22 For your next birthday!')\n"
     ]
    }
   ],
   "source": [
    "print(message)"
   ]
  },
  {
   "cell_type": "markdown",
   "metadata": {},
   "source": [
    "Parameter Passing"
   ]
  },
  {
   "cell_type": "code",
   "execution_count": 19,
   "metadata": {},
   "outputs": [],
   "source": [
    "def procedure_2(inp_name,inp_age):\n",
    "    print(\"Hello\", inp_name + \"! You will be \", str(inp_age + 1), \"For your next birthday!\")"
   ]
  },
  {
   "cell_type": "code",
   "execution_count": 21,
   "metadata": {
    "tags": []
   },
   "outputs": [
    {
     "name": "stdin",
     "output_type": "stream",
     "text": [
      "What is your name?  Suzannah\n",
      "What is your age?  21\n"
     ]
    }
   ],
   "source": [
    "name = input(\"What is your name? \")\n",
    "age  = int(input(\"What is your age? \"))"
   ]
  },
  {
   "cell_type": "code",
   "execution_count": 22,
   "metadata": {},
   "outputs": [
    {
     "name": "stdout",
     "output_type": "stream",
     "text": [
      "Hello Suzannah! You will be  22 For your next birthday!\n"
     ]
    }
   ],
   "source": [
    "procedure_2(name, age)"
   ]
  },
  {
   "cell_type": "code",
   "execution_count": 23,
   "metadata": {},
   "outputs": [],
   "source": [
    "name1 = \"Joe Bloggs\"\n",
    "age1 = 23"
   ]
  },
  {
   "cell_type": "code",
   "execution_count": 24,
   "metadata": {},
   "outputs": [
    {
     "name": "stdout",
     "output_type": "stream",
     "text": [
      "Hello Joe Bloggs! You will be  24 For your next birthday!\n"
     ]
    }
   ],
   "source": [
    "procedure_2(name1, age1)"
   ]
  },
  {
   "cell_type": "markdown",
   "metadata": {},
   "source": [
    "It is important that the order the values are passed in match the order the function/procedure requires them."
   ]
  },
  {
   "cell_type": "code",
   "execution_count": 25,
   "metadata": {},
   "outputs": [
    {
     "ename": "TypeError",
     "evalue": "unsupported operand type(s) for +: 'int' and 'str'",
     "output_type": "error",
     "traceback": [
      "\u001b[1;31m---------------------------------------------------------------------------\u001b[0m",
      "\u001b[1;31mTypeError\u001b[0m                                 Traceback (most recent call last)",
      "\u001b[1;32m<ipython-input-25-a3ca19071d16>\u001b[0m in \u001b[0;36m<module>\u001b[1;34m\u001b[0m\n\u001b[1;32m----> 1\u001b[1;33m \u001b[0mprocedure_2\u001b[0m\u001b[1;33m(\u001b[0m\u001b[0mage\u001b[0m\u001b[1;33m,\u001b[0m\u001b[0mname\u001b[0m\u001b[1;33m)\u001b[0m\u001b[1;33m\u001b[0m\u001b[1;33m\u001b[0m\u001b[0m\n\u001b[0m",
      "\u001b[1;32m<ipython-input-19-d8df852e4e0a>\u001b[0m in \u001b[0;36mprocedure_2\u001b[1;34m(inp_name, inp_age)\u001b[0m\n\u001b[0;32m      1\u001b[0m \u001b[1;32mdef\u001b[0m \u001b[0mprocedure_2\u001b[0m\u001b[1;33m(\u001b[0m\u001b[0minp_name\u001b[0m\u001b[1;33m,\u001b[0m\u001b[0minp_age\u001b[0m\u001b[1;33m)\u001b[0m\u001b[1;33m:\u001b[0m\u001b[1;33m\u001b[0m\u001b[1;33m\u001b[0m\u001b[0m\n\u001b[1;32m----> 2\u001b[1;33m     \u001b[0mprint\u001b[0m\u001b[1;33m(\u001b[0m\u001b[1;34m\"Hello\"\u001b[0m\u001b[1;33m,\u001b[0m \u001b[0minp_name\u001b[0m \u001b[1;33m+\u001b[0m \u001b[1;34m\"! You will be \"\u001b[0m\u001b[1;33m,\u001b[0m \u001b[0mstr\u001b[0m\u001b[1;33m(\u001b[0m\u001b[0minp_age\u001b[0m \u001b[1;33m+\u001b[0m \u001b[1;36m1\u001b[0m\u001b[1;33m)\u001b[0m\u001b[1;33m,\u001b[0m \u001b[1;34m\"For your next birthday!\"\u001b[0m\u001b[1;33m)\u001b[0m\u001b[1;33m\u001b[0m\u001b[1;33m\u001b[0m\u001b[0m\n\u001b[0m",
      "\u001b[1;31mTypeError\u001b[0m: unsupported operand type(s) for +: 'int' and 'str'"
     ]
    }
   ],
   "source": [
    "procedure_2(age,name)\n"
   ]
  },
  {
   "cell_type": "markdown",
   "metadata": {},
   "source": [
    "Functions/Parameters can call other functions/parameters"
   ]
  },
  {
   "cell_type": "code",
   "execution_count": 26,
   "metadata": {},
   "outputs": [],
   "source": [
    "def function_3():\n",
    "    name = input(\"What is your name? \")\n",
    "    age  = int(input(\"What is your age? \"))\n",
    "\n",
    "    output = \"Hello \" + name + \"! You will be \" + str(age + 1) + \" For your next birthday!\"\n",
    "\n",
    "    return output\n",
    "\n"
   ]
  },
  {
   "cell_type": "code",
   "execution_count": 27,
   "metadata": {},
   "outputs": [
    {
     "name": "stdin",
     "output_type": "stream",
     "text": [
      "What is your name?  Suzannah\n",
      "What is your age?  21\n"
     ]
    },
    {
     "name": "stdout",
     "output_type": "stream",
     "text": [
      "Hello Suzannah! You will be 22 For your next birthday!\n"
     ]
    }
   ],
   "source": [
    "message = function_3()\n",
    "print(message)"
   ]
  },
  {
   "cell_type": "code",
   "execution_count": 28,
   "metadata": {},
   "outputs": [],
   "source": [
    "def procedure_3():\n",
    "    \n",
    "    message = function_3()\n",
    "\n",
    "    print(message)\n"
   ]
  },
  {
   "cell_type": "code",
   "execution_count": 29,
   "metadata": {},
   "outputs": [
    {
     "name": "stdin",
     "output_type": "stream",
     "text": [
      "What is your name?  Suzannah\n",
      "What is your age?  21\n"
     ]
    },
    {
     "name": "stdout",
     "output_type": "stream",
     "text": [
      "Hello Suzannah! You will be 22 For your next birthday!\n"
     ]
    }
   ],
   "source": [
    "procedure_3()"
   ]
  },
  {
   "cell_type": "markdown",
   "metadata": {},
   "source": [
    "**PSEUDOCODE!!!**"
   ]
  }
 ],
 "metadata": {
  "kernelspec": {
   "display_name": "Python 3",
   "language": "python",
   "name": "python3"
  },
  "language_info": {
   "codemirror_mode": {
    "name": "ipython",
    "version": 3
   },
   "file_extension": ".py",
   "mimetype": "text/x-python",
   "name": "python",
   "nbconvert_exporter": "python",
   "pygments_lexer": "ipython3",
   "version": "3.8.3"
  }
 },
 "nbformat": 4,
 "nbformat_minor": 4
}
