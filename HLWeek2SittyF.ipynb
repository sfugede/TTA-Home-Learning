{
 "metadata": {
  "language_info": {
   "codemirror_mode": {
    "name": "ipython",
    "version": 3
   },
   "file_extension": ".py",
   "mimetype": "text/x-python",
   "name": "python",
   "nbconvert_exporter": "python",
   "pygments_lexer": "ipython3",
   "version": "3.9.4"
  },
  "orig_nbformat": 2,
  "kernelspec": {
   "name": "python394jvsc74a57bd07812ea015bdcee6f23a998adcdd2ef97c151c0c241b7b7070987d9313e41299d",
   "display_name": "Python 3.9.4 64-bit"
  },
  "metadata": {
   "interpreter": {
    "hash": "7812ea015bdcee6f23a998adcdd2ef97c151c0c241b7b7070987d9313e41299d"
   }
  }
 },
 "nbformat": 4,
 "nbformat_minor": 2,
 "cells": [
  {
   "cell_type": "code",
   "execution_count": 6,
   "metadata": {},
   "outputs": [
    {
     "output_type": "stream",
     "name": "stdout",
     "text": [
      "please select payment type\n"
     ]
    }
   ],
   "source": [
    "# Task 1 Convert Dataflow Diagram into Code\n",
    "userinput1 = input(\"Please scan your 1st item\")\n",
    "userinput2 = input(\"please scan all other remaining items\")\n",
    "if userinput1: \n",
    "    print (\"please select payment type\")\n",
    "else:\n",
    "    print(\"please scan all other remaining items\")\n"
   ]
  },
  {
   "cell_type": "code",
   "execution_count": 8,
   "metadata": {},
   "outputs": [],
   "source": [
    "paymenttype1 = input(\"please insert cash\")\n",
    "paymenttype2 = input(\"please scan contactless card or device\")\n",
    "paymenttype3 = input(\"please enter your card and pin number\")\n"
   ]
  },
  {
   "cell_type": "code",
   "execution_count": 9,
   "metadata": {},
   "outputs": [
    {
     "output_type": "error",
     "ename": "NameError",
     "evalue": "name 'paymenttype' is not defined",
     "traceback": [
      "\u001b[0;31m---------------------------------------------------------------------------\u001b[0m",
      "\u001b[0;31mNameError\u001b[0m                                 Traceback (most recent call last)",
      "\u001b[0;32m<ipython-input-9-ec787d4912aa>\u001b[0m in \u001b[0;36m<module>\u001b[0;34m\u001b[0m\n\u001b[0;32m----> 1\u001b[0;31m \u001b[0;32mif\u001b[0m \u001b[0mpaymenttype\u001b[0m \u001b[0;34m==\u001b[0m \u001b[0mpaymenttype1\u001b[0m\u001b[0;34m:\u001b[0m\u001b[0;34m\u001b[0m\u001b[0;34m\u001b[0m\u001b[0m\n\u001b[0m\u001b[1;32m      2\u001b[0m     \u001b[0mprint\u001b[0m\u001b[0;34m(\u001b[0m\u001b[0;34m\"please insert cash\"\u001b[0m\u001b[0;34m)\u001b[0m\u001b[0;34m\u001b[0m\u001b[0;34m\u001b[0m\u001b[0m\n\u001b[1;32m      3\u001b[0m \u001b[0;32melif\u001b[0m \u001b[0mpaymenttype\u001b[0m \u001b[0;34m==\u001b[0m \u001b[0mpaymenttype2\u001b[0m\u001b[0;34m:\u001b[0m\u001b[0;34m\u001b[0m\u001b[0;34m\u001b[0m\u001b[0m\n\u001b[1;32m      4\u001b[0m     \u001b[0mprint\u001b[0m\u001b[0;34m(\u001b[0m\u001b[0;34m\"please scan contactless card or device\"\u001b[0m\u001b[0;34m)\u001b[0m\u001b[0;34m\u001b[0m\u001b[0;34m\u001b[0m\u001b[0m\n\u001b[1;32m      5\u001b[0m \u001b[0;32melif\u001b[0m \u001b[0mpaymenttype\u001b[0m \u001b[0;34m==\u001b[0m \u001b[0mpaymenttype3\u001b[0m\u001b[0;34m:\u001b[0m\u001b[0;34m\u001b[0m\u001b[0;34m\u001b[0m\u001b[0m\n",
      "\u001b[0;31mNameError\u001b[0m: name 'paymenttype' is not defined"
     ]
    }
   ],
   "source": [
    "if paymenttype1:\n",
    "    print(\"please insert cash\")\n",
    "elif paymenttype2:\n",
    "    print(\"please scan contactless card or device\")\n",
    "elif paymenttype3:\n",
    "    print(\"please enter your card and pin number\")\n",
    "else:\n",
    "    print(\"do you wish to continue\")\n",
    "\n",
    "\n"
   ]
  },
  {
   "cell_type": "code",
   "execution_count": null,
   "metadata": {},
   "outputs": [],
   "source": [
    "receipt1 = input(\"receipt required\")\n",
    "receipt2 = input(\"no receipt required\")"
   ]
  },
  {
   "cell_type": "code",
   "execution_count": null,
   "metadata": {},
   "outputs": [],
   "source": [
    "if receipt1:\n",
    "    print(\"please take your receipt\")\n",
    "else:\n",
    "    print(\"thank you for shopping with us, goodbye\")\n",
    "    "
   ]
  },
  {
   "cell_type": "code",
   "execution_count": null,
   "metadata": {},
   "outputs": [],
   "source": [
    "\n",
    "\n",
    "#Task 2 Motorbike depriciation. Set up a function that perfoms a calculation by passing in parameters"
   ]
  },
  {
   "cell_type": "code",
   "execution_count": null,
   "metadata": {},
   "outputs": [],
   "source": [
    "def function_a():\n",
    "    value = £2000\n",
    "    year = 2021\n",
    "    dep_rate = 10/100\n",
    "    multiplier = 0.9\n",
    "while value >= 1000:\n",
    "    value = value * multiplier\n",
    "    year =+ 1\n",
    "    output = \" In the year\" + year \"the asset value is\" + value * multipier + \"at a depreciation rate of\" + dep_rate + \"per annum\"\n",
    "\n",
    "    return output\n",
    "    message = function_a()\n",
    "    print(message)\n",
    "    \n",
    "\n"
   ]
  }
 ]
}